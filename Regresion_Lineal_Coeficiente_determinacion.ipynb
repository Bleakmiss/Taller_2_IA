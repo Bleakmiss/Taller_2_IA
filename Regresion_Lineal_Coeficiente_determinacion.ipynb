{
  "nbformat": 4,
  "nbformat_minor": 0,
  "metadata": {
    "colab": {
      "name": "Regresion_Lineal_Coeficiente_determinacion.ipynb",
      "provenance": [],
      "collapsed_sections": [],
      "toc_visible": true,
      "authorship_tag": "ABX9TyO61g+OKg2iyArT06jpgudN",
      "include_colab_link": true
    },
    "kernelspec": {
      "name": "python3",
      "display_name": "Python 3"
    },
    "language_info": {
      "name": "python"
    }
  },
  "cells": [
    {
      "cell_type": "markdown",
      "metadata": {
        "id": "view-in-github",
        "colab_type": "text"
      },
      "source": [
        "<a href=\"https://colab.research.google.com/github/Bleakmiss/Taller_2_IA/blob/main/Regresion_Lineal_Coeficiente_determinacion.ipynb\" target=\"_parent\"><img src=\"https://colab.research.google.com/assets/colab-badge.svg\" alt=\"Open In Colab\"/></a>"
      ]
    },
    {
      "cell_type": "code",
      "metadata": {
        "colab": {
          "base_uri": "https://localhost:8080/"
        },
        "id": "cp9O5Fa8JhEb",
        "outputId": "6e862759-c850-4608-96a5-c0076aa5964b"
      },
      "source": [
        "## Regresion lineal\n",
        "import numpy as np\n",
        "\n",
        "#Definicion de variables de entrada \n",
        "Caracteristica1 = np.array([1, 1.5, 2, 2.5, 3, 3.5, 4, 4.5, 5, 5.5, 6]);\n",
        "etiquetas= np.array([0.169610271922408, 0.283395812542308, 0.386358737510785, 0.470227872390909, 0.433281293764675, 0.600267648212653, 0.738338980436742, 0.790315020494445, 0.877464268422459, 0.84356446225183, 0.96443891694455]);\n",
        "Aux_C=[]\n",
        "Aux_B=[]\n",
        "Aux=[]\n",
        "p=0\n",
        "\n",
        "\n",
        "#Funcion para calculo de error\n",
        "def Calc_Error(Hipotesis,etiquetas):\n",
        "    #Hipotesis es la hipotesis calculada y etiquetas son las etiquetas de entrada\n",
        "    error = (Hipotesis- etiquetas)**2\n",
        "    return(np.sum(error)/(2*error.shape[0]))\n",
        "\n",
        "#Funcion para calculo de hipotesis por medio de fuerza bruta\n",
        "def Regresion_lineal(Caracteristica1,etiquetas):\n",
        "    for i in np.arange(-1,1,0.001):\n",
        "        for j in np.arange(-1, 1, 0.001):\n",
        "            C1= i*Caracteristica1+j\n",
        "            Aux_C.append(i)\n",
        "            Aux_B.append(j)\n",
        "            Aux.append(Calc_Error(C1,etiquetas))\n",
        "    index=Aux.index(min(Aux))\n",
        "    return(round(Aux_C[index],4),round(Aux_B[index],4),round(min(Aux),4))\n",
        "\n",
        "Regresion = Regresion_lineal(Caracteristica1, etiquetas)\n",
        "\n",
        "print(\"Pendiente:\", Regresion[0], \"Constante:\", Regresion[1], \"error:\", Regresion[2])\n",
        "\n",
        "\n",
        "#Calculo coeficiente de determinacion\n",
        "Y= Regresion[0]*Caracteristica1+Regresion[1]\n",
        "Y_Average=np.sum(etiquetas)/len(etiquetas)\n",
        "TSS= np.sum((etiquetas-Y_Average)**2)\n",
        "RSS= np.sum((etiquetas-Y)**2)\n",
        "R_Cuadrado= 1- RSS/TSS\n",
        "\n",
        "print(\"Coeficiente de determinacion:\",R_Cuadrado)\n",
        "\n"
      ],
      "execution_count": 6,
      "outputs": [
        {
          "output_type": "stream",
          "name": "stdout",
          "text": [
            "Pendiente 0.157 Constante 0.047 error: 0.001\n",
            "Coeficiente de determinacion 0.9678889489228654\n"
          ]
        }
      ]
    }
  ]
}